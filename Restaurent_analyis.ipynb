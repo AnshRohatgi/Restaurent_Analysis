{
  "nbformat": 4,
  "nbformat_minor": 0,
  "metadata": {
    "colab": {
      "private_outputs": true,
      "provenance": []
    },
    "kernelspec": {
      "name": "python3",
      "display_name": "Python 3"
    },
    "language_info": {
      "name": "python"
    }
  },
  "cells": [
    {
      "cell_type": "code",
      "execution_count": null,
      "metadata": {
        "id": "uQ6k9I0EMDtO"
      },
      "outputs": [],
      "source": [
        "import pandas as pd\n",
        "import numpy as np\n",
        "import matplotlib.pyplot as plt\n",
        "import seaborn as sns"
      ]
    },
    {
      "cell_type": "code",
      "source": [
        "df=pd.read_csv('/content/hotel_bookings 2.csv')"
      ],
      "metadata": {
        "id": "cb7cK3zJMykD"
      },
      "execution_count": null,
      "outputs": []
    },
    {
      "cell_type": "code",
      "source": [
        "df.head()"
      ],
      "metadata": {
        "id": "4dkTM_wlM7X5"
      },
      "execution_count": null,
      "outputs": []
    },
    {
      "cell_type": "code",
      "source": [
        "df.shape"
      ],
      "metadata": {
        "id": "9Bj_vPMqZm3a"
      },
      "execution_count": null,
      "outputs": []
    },
    {
      "cell_type": "code",
      "source": [
        "df.isnull().sum()"
      ],
      "metadata": {
        "id": "C0bud6yvNHUE"
      },
      "execution_count": null,
      "outputs": []
    },
    {
      "cell_type": "code",
      "source": [
        "df.info() # we have to  change it into the date time analysis\n"
      ],
      "metadata": {
        "id": "Dr0CJzaJNld7"
      },
      "execution_count": null,
      "outputs": []
    },
    {
      "cell_type": "code",
      "source": [
        "df['reservation_status_date']=pd.to_datetime(df['reservation_status_date'])"
      ],
      "metadata": {
        "id": "G8rk8OQdNxIl"
      },
      "execution_count": null,
      "outputs": []
    },
    {
      "cell_type": "code",
      "source": [
        "df.describe(include='object')"
      ],
      "metadata": {
        "id": "3RQqKZfRRAvt"
      },
      "execution_count": null,
      "outputs": []
    },
    {
      "cell_type": "code",
      "source": [
        "for col in df.describe(include='object').columns:\n",
        "  print(col)\n",
        "  print(df[col].unique())"
      ],
      "metadata": {
        "id": "awKLfLmZRPDR"
      },
      "execution_count": null,
      "outputs": []
    },
    {
      "cell_type": "code",
      "source": [
        "# we  will remove the  column  which  will make the drop\n",
        "df.drop(['company','agent'],axis=1,inplace=True)"
      ],
      "metadata": {
        "id": "euYPZeFOS4Ul"
      },
      "execution_count": null,
      "outputs": []
    },
    {
      "cell_type": "code",
      "source": [
        "df.dropna(inplace=True)\n"
      ],
      "metadata": {
        "id": "mfz49UtMTnew"
      },
      "execution_count": null,
      "outputs": []
    },
    {
      "cell_type": "code",
      "source": [
        "df.describe()"
      ],
      "metadata": {
        "id": "S9WkdroWTbhY"
      },
      "execution_count": null,
      "outputs": []
    },
    {
      "cell_type": "code",
      "source": [
        "df['adults'].max()"
      ],
      "metadata": {
        "id": "rHkckD5PTO_a"
      },
      "execution_count": null,
      "outputs": []
    },
    {
      "cell_type": "code",
      "source": [
        "# how to     make the box plot\n",
        "df['adr'].plot(kind='box')"
      ],
      "metadata": {
        "id": "lijv3eF6U-sp"
      },
      "execution_count": null,
      "outputs": []
    },
    {
      "cell_type": "code",
      "source": [
        "df=df[df['adr']<5000]"
      ],
      "metadata": {
        "id": "Qjf7tNFMVaS1"
      },
      "execution_count": null,
      "outputs": []
    },
    {
      "cell_type": "code",
      "source": [
        "df['is_canceled'].value_counts(normalize=True) # but  cancellling are very much"
      ],
      "metadata": {
        "id": "c8ffPPBYVjiL"
      },
      "execution_count": null,
      "outputs": []
    },
    {
      "cell_type": "code",
      "source": [],
      "metadata": {
        "id": "7_sJ4duFWznK"
      },
      "execution_count": null,
      "outputs": []
    },
    {
      "cell_type": "code",
      "source": [
        "plt.figure(figsize=(5,4))\n",
        "plt.title('Reservation Status Count')\n",
        "plt.bar(['Not Cancelled','Cancelled'],df['is_canceled'].value_counts(),edgecolor='k',width=0.7)\n",
        "plt.show()"
      ],
      "metadata": {
        "id": "wogXXCepW10H"
      },
      "execution_count": null,
      "outputs": []
    },
    {
      "cell_type": "code",
      "source": [
        "plt.figure(figsize=(5,4))\n",
        "ax1=sns.countplot(x='hotel',hue='is_canceled',data=df,palette='Blues')\n",
        "plt.title('Reservation status in different  hotel',size=20)\n",
        "plt.xlabel('hotel')\n",
        "plt.ylabel('number of reservation')\n",
        "plt.legend(['not cancelled','cancelled'])\n",
        "plt.show()"
      ],
      "metadata": {
        "id": "rPbl41K1ZpRK"
      },
      "execution_count": null,
      "outputs": []
    },
    {
      "cell_type": "code",
      "source": [
        "df['hotel'].value_counts()"
      ],
      "metadata": {
        "id": "_Aol-Hwvcqww"
      },
      "execution_count": null,
      "outputs": []
    },
    {
      "cell_type": "code",
      "source": [
        "# we  want to see in  restort  hotel\n",
        "resort=df[df['hotel']=='Resort Hotel']\n",
        "resort['is_canceled'].value_counts(normalize=True)"
      ],
      "metadata": {
        "id": "q5g6KlH4c3_4"
      },
      "execution_count": null,
      "outputs": []
    },
    {
      "cell_type": "code",
      "source": [],
      "metadata": {
        "id": "xeELzNeqeGl_"
      },
      "execution_count": null,
      "outputs": []
    },
    {
      "cell_type": "code",
      "source": [
        "resort=df[df['hotel']=='City Hotel']\n",
        "resort['is_canceled'].value_counts(normalize=True)"
      ],
      "metadata": {
        "id": "KAi7xa9MdbDn"
      },
      "execution_count": null,
      "outputs": []
    },
    {
      "cell_type": "code",
      "source": [
        "df['month']=df['reservation_status_date'].dt.month\n",
        "plt.figure(figsize=(16,8))\n",
        "ax1=sns.countplot(x='month',hue='is_canceled',data=df,palette='bright')\n",
        "plt.title('Reservation status in different month',size=20)\n",
        "plt.xlabel('hotel')\n",
        "plt.ylabel('number of reservation')\n",
        "plt.legend(['not cancelled','cancelled'])\n",
        "plt.show()"
      ],
      "metadata": {
        "id": "Rg1J1ZwpeJJk"
      },
      "execution_count": null,
      "outputs": []
    },
    {
      "cell_type": "code",
      "source": [
        "import pandas as pd\n",
        "\n",
        "# Assuming df is your DataFrame containing the relevant data\n",
        "d1 = df[df['is_canceled'] == 1].groupby('month')[['adr']].sum()\n",
        "# Print the resulting DataFrame\n",
        "d1\n"
      ],
      "metadata": {
        "id": "m4xYuOV3oaVJ"
      },
      "execution_count": null,
      "outputs": []
    },
    {
      "cell_type": "code",
      "source": [
        "d1"
      ],
      "metadata": {
        "id": "tkhotoGTquds"
      },
      "execution_count": null,
      "outputs": []
    },
    {
      "cell_type": "code",
      "source": [
        "\n",
        "\n",
        "plt.figure(figsize=(15,8))\n",
        "plt.title('ADR PER MONTH', size=20)\n",
        "sns.barplot(x='month', y='adr', data=d1)\n",
        "plt.show()\n",
        "# this is  january\n"
      ],
      "metadata": {
        "id": "bRECVVPfnh9s"
      },
      "execution_count": null,
      "outputs": []
    },
    {
      "cell_type": "code",
      "source": [
        "# countirs cancelled rate\n",
        "can_data=df[df['is_canceled']==1]\n",
        "top_10=can_data['country'].value_counts()[:10]\n",
        "plt.figure(figsize=(8,8))\n",
        "plt.title('top 10 countoirs')\n",
        "plt.pie(top_10,autopct='%.2f',labels=top_10.index)\n",
        "plt.show()"
      ],
      "metadata": {
        "id": "ccawhzjXrIVR"
      },
      "execution_count": null,
      "outputs": []
    },
    {
      "cell_type": "code",
      "source": [],
      "metadata": {
        "id": "NLy9IySpQI0w"
      },
      "execution_count": null,
      "outputs": []
    },
    {
      "cell_type": "code",
      "source": [],
      "metadata": {
        "id": "OKc3X6Wosucx"
      },
      "execution_count": null,
      "outputs": []
    },
    {
      "cell_type": "code",
      "source": [
        "df['market_segment'].value_counts(normalize=True)"
      ],
      "metadata": {
        "id": "5z5Uvwa7sugX"
      },
      "execution_count": null,
      "outputs": []
    },
    {
      "cell_type": "code",
      "source": [
        "can_data['market_segment'].value_counts(normalize=True)"
      ],
      "metadata": {
        "id": "Hsh3L_cfszDW"
      },
      "execution_count": null,
      "outputs": []
    }
  ]
}